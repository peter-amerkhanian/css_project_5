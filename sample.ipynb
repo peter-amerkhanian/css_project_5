{
 "cells": [
  {
   "cell_type": "code",
   "execution_count": 1,
   "id": "efdc65aa-59fe-4453-9b81-5bc2b97c5562",
   "metadata": {},
   "outputs": [],
   "source": [
    "import pandas as pd"
   ]
  },
  {
   "cell_type": "code",
   "execution_count": 2,
   "id": "ac5975f4-f6be-49d0-886f-2028910aef92",
   "metadata": {},
   "outputs": [],
   "source": [
    "df = pd.read_csv(\"116th Congressional Tweets and Demographics.csv\")"
   ]
  },
  {
   "cell_type": "code",
   "execution_count": 6,
   "id": "4e11aafe-5632-44d2-bdd8-64ad049752e1",
   "metadata": {},
   "outputs": [],
   "source": [
    "df.sample(10000, random_state=1).to_csv(\"116th_Congress_Sample.csv\")"
   ]
  },
  {
   "cell_type": "code",
   "execution_count": null,
   "id": "43ed162a-e1a6-4414-84dd-fa2046a708ff",
   "metadata": {},
   "outputs": [],
   "source": []
  }
 ],
 "metadata": {
  "kernelspec": {
   "display_name": "Python 3 (ipykernel)",
   "language": "python",
   "name": "python3"
  },
  "language_info": {
   "codemirror_mode": {
    "name": "ipython",
    "version": 3
   },
   "file_extension": ".py",
   "mimetype": "text/x-python",
   "name": "python",
   "nbconvert_exporter": "python",
   "pygments_lexer": "ipython3",
   "version": "3.9.15"
  }
 },
 "nbformat": 4,
 "nbformat_minor": 5
}
